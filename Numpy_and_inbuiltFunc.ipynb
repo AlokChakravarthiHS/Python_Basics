{
 "cells": [
  {
   "cell_type": "markdown",
   "id": "81dc9067",
   "metadata": {},
   "source": [
    "# Numpy"
   ]
  },
  {
   "cell_type": "code",
   "execution_count": null,
   "id": "a1116034",
   "metadata": {},
   "outputs": [],
   "source": [
    "#It is array processing package (i.e we use to deal with arrays)\n",
    "#It holds same datatype unlike lists"
   ]
  },
  {
   "cell_type": "code",
   "execution_count": 1,
   "id": "6f71b064",
   "metadata": {},
   "outputs": [],
   "source": [
    "#Importing package numpy\n",
    "\n",
    "import numpy as np"
   ]
  },
  {
   "cell_type": "code",
   "execution_count": 3,
   "id": "b9cb5e36",
   "metadata": {},
   "outputs": [
    {
     "name": "stdout",
     "output_type": "stream",
     "text": [
      "<class 'list'>\n",
      "<class 'numpy.ndarray'>\n"
     ]
    },
    {
     "data": {
      "text/plain": [
       "array([1, 2, 3, 4, 5])"
      ]
     },
     "execution_count": 3,
     "metadata": {},
     "output_type": "execute_result"
    }
   ],
   "source": [
    "#1-Dimentional array\n",
    "\n",
    "my_lst=[1,2,3,4,5,]\n",
    "print(type(my_lst))\n",
    "arr=np.array(my_lst)\n",
    "print(type(arr))\n",
    "arr"
   ]
  },
  {
   "cell_type": "code",
   "execution_count": 4,
   "id": "fbbf735c",
   "metadata": {},
   "outputs": [
    {
     "data": {
      "text/plain": [
       "(5,)"
      ]
     },
     "execution_count": 4,
     "metadata": {},
     "output_type": "execute_result"
    }
   ],
   "source": [
    "#check the dimention of array\n",
    "arr.shape"
   ]
  },
  {
   "cell_type": "code",
   "execution_count": 2,
   "id": "64c9adf1",
   "metadata": {},
   "outputs": [
    {
     "data": {
      "text/plain": [
       "array([[1, 2, 3, 4, 5],\n",
       "       [6, 7, 8, 9, 0],\n",
       "       [4, 5, 6, 7, 8]])"
      ]
     },
     "execution_count": 2,
     "metadata": {},
     "output_type": "execute_result"
    }
   ],
   "source": [
    "#2-Dimentional array\n",
    "\n",
    "lst1=[1,2,3,4,5]\n",
    "lst2=[6,7,8,9,0,]\n",
    "lst3=[4,5,6,7,8]\n",
    "\n",
    "arr11=np.array([lst1,lst2,lst3])\n",
    "arr11"
   ]
  },
  {
   "cell_type": "code",
   "execution_count": 6,
   "id": "172d9cde",
   "metadata": {},
   "outputs": [
    {
     "data": {
      "text/plain": [
       "(3, 5)"
      ]
     },
     "execution_count": 6,
     "metadata": {},
     "output_type": "execute_result"
    }
   ],
   "source": [
    "arr11.shape\n",
    "#displaying 3rows and 5 columns"
   ]
  },
  {
   "cell_type": "code",
   "execution_count": 19,
   "id": "e9451215",
   "metadata": {},
   "outputs": [
    {
     "data": {
      "text/plain": [
       "array([[1, 2, 3],\n",
       "       [4, 5, 6],\n",
       "       [7, 8, 9],\n",
       "       [0, 4, 5],\n",
       "       [6, 7, 8]])"
      ]
     },
     "execution_count": 19,
     "metadata": {},
     "output_type": "execute_result"
    }
   ],
   "source": [
    "arr11.reshape(5,3)"
   ]
  },
  {
   "cell_type": "code",
   "execution_count": 27,
   "id": "4f85f3c7",
   "metadata": {},
   "outputs": [
    {
     "name": "stdout",
     "output_type": "stream",
     "text": [
      "[[[[[1 2 3 4]]]]]\n",
      "number of dimensions : 1\n"
     ]
    }
   ],
   "source": [
    "arr2 = np.array([1, 2, 3, 4], ndmin=5) # ndim tells what dimention the particular array is \n",
    "\n",
    "print(arr2)\n",
    "print('number of dimensions :', arr.ndim)"
   ]
  },
  {
   "cell_type": "code",
   "execution_count": 28,
   "id": "2d086ccf",
   "metadata": {},
   "outputs": [
    {
     "name": "stdout",
     "output_type": "stream",
     "text": [
      "6\n"
     ]
    }
   ],
   "source": [
    "arr = np.array([[[1, 2, 3], [4, 5, 6]], [[7, 8, 9], [10, 11, 12]]])\n",
    "\n",
    "print(arr[0, 1, 2])\n",
    "'''And this is why:\n",
    "\n",
    "The first number represents the first dimension, which contains two arrays:\n",
    "[[1, 2, 3], [4, 5, 6]]\n",
    "and:\n",
    "[[7, 8, 9], [10, 11, 12]]\n",
    "Since we selected 0, we are left with the first array:\n",
    "[[1, 2, 3], [4, 5, 6]]\n",
    "\n",
    "The second number represents the second dimension, which also contains two arrays:\n",
    "[1, 2, 3]\n",
    "and:\n",
    "[4, 5, 6]\n",
    "Since we selected 1, we are left with the second array:\n",
    "[4, 5, 6]\n",
    "\n",
    "The third number represents the third dimension, which contains three values:\n",
    "4\n",
    "5\n",
    "6\n",
    "Since we selected 2, we end up with the third value:\n",
    "6'''"
   ]
  },
  {
   "cell_type": "markdown",
   "id": "3999bcc8",
   "metadata": {},
   "source": [
    "## indexing"
   ]
  },
  {
   "cell_type": "code",
   "execution_count": 3,
   "id": "a58a38ba",
   "metadata": {},
   "outputs": [
    {
     "data": {
      "text/plain": [
       "array([[1, 2, 3, 4, 5],\n",
       "       [6, 7, 8, 9, 0],\n",
       "       [4, 5, 6, 7, 8]])"
      ]
     },
     "execution_count": 3,
     "metadata": {},
     "output_type": "execute_result"
    }
   ],
   "source": [
    "arr11"
   ]
  },
  {
   "cell_type": "code",
   "execution_count": 8,
   "id": "1b8360c3",
   "metadata": {},
   "outputs": [
    {
     "data": {
      "text/plain": [
       "(array([[7, 8, 9],\n",
       "        [5, 6, 7]]),\n",
       " array([[8],\n",
       "        [6]]))"
      ]
     },
     "execution_count": 8,
     "metadata": {},
     "output_type": "execute_result"
    }
   ],
   "source": [
    "#retreeving data from multidimentional array\n",
    "arr11[0:2,0:1]\n",
    "arr11[1:,1:4],arr11[1:,2:3]  #can retrive multiple arrayb output by using comma in a single line."
   ]
  },
  {
   "cell_type": "code",
   "execution_count": 45,
   "id": "2b8d1f49",
   "metadata": {},
   "outputs": [
    {
     "data": {
      "text/plain": [
       "array([[7],\n",
       "       [5]])"
      ]
     },
     "execution_count": 45,
     "metadata": {},
     "output_type": "execute_result"
    }
   ],
   "source": [
    "arr11[1:3,1:2] # includes the start index,but excludes end index"
   ]
  },
  {
   "cell_type": "code",
   "execution_count": 49,
   "id": "20133c4a",
   "metadata": {},
   "outputs": [
    {
     "data": {
      "text/plain": [
       "array([[3, 4],\n",
       "       [8, 9]])"
      ]
     },
     "execution_count": 49,
     "metadata": {},
     "output_type": "execute_result"
    }
   ],
   "source": [
    "arr11[0:2,2:4]"
   ]
  },
  {
   "cell_type": "code",
   "execution_count": 51,
   "id": "5bfbc9be",
   "metadata": {},
   "outputs": [
    {
     "data": {
      "text/plain": [
       "array([[8, 9],\n",
       "       [6, 7]])"
      ]
     },
     "execution_count": 51,
     "metadata": {},
     "output_type": "execute_result"
    }
   ],
   "source": [
    "arr11[1:,2:4]"
   ]
  },
  {
   "cell_type": "code",
   "execution_count": 53,
   "id": "49cc1ddb",
   "metadata": {},
   "outputs": [
    {
     "data": {
      "text/plain": [
       "array([[7, 8, 9]])"
      ]
     },
     "execution_count": 53,
     "metadata": {},
     "output_type": "execute_result"
    }
   ],
   "source": [
    "arr11[1:2,1:4]"
   ]
  },
  {
   "cell_type": "code",
   "execution_count": 19,
   "id": "dbff449e",
   "metadata": {},
   "outputs": [
    {
     "name": "stdout",
     "output_type": "stream",
     "text": [
      "[1 2 3 4 5 6 7 8 9]\n"
     ]
    },
    {
     "data": {
      "text/plain": [
       "array([0, 3, 6, 9])"
      ]
     },
     "execution_count": 19,
     "metadata": {},
     "output_type": "execute_result"
    }
   ],
   "source": [
    "#inbuiltfunctions on array and numpy\n",
    "\n",
    "arr=np.arange(1,10) # gives you array of mentioned range\n",
    "print(arr)\n",
    "arr=np.arange(0,10,step=3) # gives you array of (stat,stop,stepin the range)\n",
    "arr"
   ]
  },
  {
   "cell_type": "code",
   "execution_count": 63,
   "id": "2ef2ce99",
   "metadata": {},
   "outputs": [
    {
     "data": {
      "text/plain": [
       "array([ 1.        ,  1.18367347,  1.36734694,  1.55102041,  1.73469388,\n",
       "        1.91836735,  2.10204082,  2.28571429,  2.46938776,  2.65306122,\n",
       "        2.83673469,  3.02040816,  3.20408163,  3.3877551 ,  3.57142857,\n",
       "        3.75510204,  3.93877551,  4.12244898,  4.30612245,  4.48979592,\n",
       "        4.67346939,  4.85714286,  5.04081633,  5.2244898 ,  5.40816327,\n",
       "        5.59183673,  5.7755102 ,  5.95918367,  6.14285714,  6.32653061,\n",
       "        6.51020408,  6.69387755,  6.87755102,  7.06122449,  7.24489796,\n",
       "        7.42857143,  7.6122449 ,  7.79591837,  7.97959184,  8.16326531,\n",
       "        8.34693878,  8.53061224,  8.71428571,  8.89795918,  9.08163265,\n",
       "        9.26530612,  9.44897959,  9.63265306,  9.81632653, 10.        ])"
      ]
     },
     "execution_count": 63,
     "metadata": {},
     "output_type": "execute_result"
    }
   ],
   "source": [
    "arr=np.linspace(1,10,50) # picks equally divided elements in the given range[ex: in range 1 to 10, 50 equally divided elelments]\n",
    "arr"
   ]
  },
  {
   "cell_type": "code",
   "execution_count": 23,
   "id": "1fa33c99",
   "metadata": {},
   "outputs": [
    {
     "name": "stdout",
     "output_type": "stream",
     "text": [
      "<class 'numpy.ndarray'>\n"
     ]
    },
    {
     "data": {
      "text/plain": [
       "array([1, 2, 3, 4, 5, 6, 7, 8, 9])"
      ]
     },
     "execution_count": 23,
     "metadata": {},
     "output_type": "execute_result"
    }
   ],
   "source": [
    "#copy() and broadcasting\n",
    "\n",
    "lst=[1,2,3,4,5,6,7,8,9]\n",
    "arr1=np.array(lst)\n",
    "print(type(arr1))\n",
    "arr1"
   ]
  },
  {
   "cell_type": "code",
   "execution_count": 22,
   "id": "77efb46c",
   "metadata": {},
   "outputs": [
    {
     "data": {
      "text/plain": [
       "array([  1,   2,   3, 100, 100, 100, 100, 100,   9])"
      ]
     },
     "execution_count": 22,
     "metadata": {},
     "output_type": "execute_result"
    }
   ],
   "source": [
    "#broadcasting ---- replacing the array with the given index.\n",
    "arr1[3:8]=100\n",
    "arr1"
   ]
  },
  {
   "cell_type": "code",
   "execution_count": 24,
   "id": "4c0afe16",
   "metadata": {},
   "outputs": [
    {
     "data": {
      "text/plain": [
       "array([1, 2, 3, 4, 5, 6, 7, 8, 9])"
      ]
     },
     "execution_count": 24,
     "metadata": {},
     "output_type": "execute_result"
    }
   ],
   "source": [
    "arr2=arr1\n",
    "arr2"
   ]
  },
  {
   "cell_type": "code",
   "execution_count": 25,
   "id": "5ef12f16",
   "metadata": {},
   "outputs": [
    {
     "data": {
      "text/plain": [
       "array([  1,   2,   3, 500, 500, 500, 500, 500, 500])"
      ]
     },
     "execution_count": 25,
     "metadata": {},
     "output_type": "execute_result"
    }
   ],
   "source": [
    "arr2[3:]=500\n",
    "arr2"
   ]
  },
  {
   "cell_type": "code",
   "execution_count": 26,
   "id": "566d89f2",
   "metadata": {},
   "outputs": [
    {
     "data": {
      "text/plain": [
       "array([  1,   2,   3, 500, 500, 500, 500, 500, 500])"
      ]
     },
     "execution_count": 26,
     "metadata": {},
     "output_type": "execute_result"
    }
   ],
   "source": [
    "arr1\n",
    "#arr1 is also effected by the values change in arr2 as array share one single memory set to prevent this we use copy()"
   ]
  },
  {
   "cell_type": "code",
   "execution_count": 78,
   "id": "4af5323a",
   "metadata": {},
   "outputs": [
    {
     "name": "stdout",
     "output_type": "stream",
     "text": [
      "[  1   2   3 500 500 500 500 500 500]\n",
      "[  1   2   3 500 999 999 999 999 999]\n"
     ]
    }
   ],
   "source": [
    "arr3=arr1.copy()\n",
    "print(arr1)\n",
    "arr3[4:]=999\n",
    "print(arr3)\n",
    "\n",
    "#arr3 is having seperate memory set as we have copied the data to a new variable by using copyfunction \"copy()\""
   ]
  },
  {
   "cell_type": "code",
   "execution_count": 90,
   "id": "30996dc1",
   "metadata": {},
   "outputs": [
    {
     "name": "stdout",
     "output_type": "stream",
     "text": [
      "[ True False False False False False False False False]\n",
      "[  0.5   1.    1.5 250.  250.  250.  250.  250.  250. ]\n",
      "[   2    4    6 1000 1000 1000 1000 1000 1000]\n",
      "[1 0 1 0 0 0 0 0 0]\n",
      "[   2    4    6 1000 1000 1000 1000 1000 1000]\n",
      "[False False  True  True  True  True  True  True  True]\n",
      "[  3 500 500 500 500 500 500]\n"
     ]
    }
   ],
   "source": [
    "#conditions used in Exploratory Data Analysis.\n",
    "\n",
    "\n",
    "#conditions on array, it checks each and every element like for loop\n",
    "val=2\n",
    "print(arr1<2) #returns boolean value\n",
    "print(arr1/2)\n",
    "print(arr1*val)\n",
    "print(arr1%val) \n",
    "print(val*arr1)\n",
    "print(arr1>2)\n",
    "print(arr1[arr1>2]) #to get values put the condition into array"
   ]
  },
  {
   "cell_type": "code",
   "execution_count": 94,
   "id": "e76330ee",
   "metadata": {},
   "outputs": [
    {
     "name": "stdout",
     "output_type": "stream",
     "text": [
      "[[0 1 2 3 4]\n",
      " [5 6 7 8 9]]\n",
      "[[0 1 2 3 4]\n",
      " [5 6 7 8 9]]\n"
     ]
    },
    {
     "data": {
      "text/plain": [
       "array([[ 0,  1,  4,  9, 16],\n",
       "       [25, 36, 49, 64, 81]])"
      ]
     },
     "execution_count": 94,
     "metadata": {},
     "output_type": "execute_result"
    }
   ],
   "source": [
    "ar1=np.arange(0,10).reshape(2,5)\n",
    "print(ar1)\n",
    "ar2=np.arange(0,10).reshape(2,5)\n",
    "print(ar2)\n",
    "ar1*ar2"
   ]
  },
  {
   "cell_type": "code",
   "execution_count": 99,
   "id": "349db472",
   "metadata": {},
   "outputs": [
    {
     "data": {
      "text/plain": [
       "array([1., 1., 1., 1., 1.])"
      ]
     },
     "execution_count": 99,
     "metadata": {},
     "output_type": "execute_result"
    }
   ],
   "source": [
    "#ones\n",
    "\n",
    "np.ones(5)\n",
    "# by default ones is float"
   ]
  },
  {
   "cell_type": "code",
   "execution_count": 29,
   "id": "c55049af",
   "metadata": {},
   "outputs": [
    {
     "name": "stdout",
     "output_type": "stream",
     "text": [
      "[1 2 3]\n",
      "int32\n"
     ]
    }
   ],
   "source": [
    "arr = np.array([1.1, 2.1, 3.1])\n",
    "\n",
    "newarr = arr.astype('i')\n",
    "\n",
    "print(newarr)\n",
    "print(newarr.dtype)"
   ]
  },
  {
   "cell_type": "code",
   "execution_count": 100,
   "id": "73482d28",
   "metadata": {},
   "outputs": [
    {
     "data": {
      "text/plain": [
       "array([1, 1, 1, 1, 1])"
      ]
     },
     "execution_count": 100,
     "metadata": {},
     "output_type": "execute_result"
    }
   ],
   "source": [
    "#converting the ones to integer\n",
    "np.ones(5,dtype=int)"
   ]
  },
  {
   "cell_type": "code",
   "execution_count": 102,
   "id": "7206d3a3",
   "metadata": {},
   "outputs": [
    {
     "data": {
      "text/plain": [
       "array([[1, 1, 1, 1, 1],\n",
       "       [1, 1, 1, 1, 1]])"
      ]
     },
     "execution_count": 102,
     "metadata": {},
     "output_type": "execute_result"
    }
   ],
   "source": [
    "np.ones((2,5),dtype=int)  #multi-D array"
   ]
  },
  {
   "cell_type": "code",
   "execution_count": null,
   "id": "bfb97863",
   "metadata": {},
   "outputs": [],
   "source": [
    "'''There are a lot of functions for changing the shapes of arrays in numpy flatten,\n",
    "ravel and also for rearranging the elements rot90, flip, fliplr, flipud etc.\n",
    "These fall under Intermediate to Advanced section of numpy.'''"
   ]
  },
  {
   "cell_type": "code",
   "execution_count": 109,
   "id": "dc4692ae",
   "metadata": {},
   "outputs": [
    {
     "data": {
      "text/plain": [
       "array([0.64599427, 0.3992838 , 0.17237679, 0.36116304, 0.34221058])"
      ]
     },
     "execution_count": 109,
     "metadata": {},
     "output_type": "execute_result"
    }
   ],
   "source": [
    "#Random Distribution ---- All the value are random and not permanent, they are choosen randomly for each iteration\n",
    "\n",
    "np.random.rand(5)"
   ]
  },
  {
   "cell_type": "code",
   "execution_count": 110,
   "id": "68dbe5be",
   "metadata": {},
   "outputs": [
    {
     "data": {
      "text/plain": [
       "array([[0.16414417, 0.142931  , 0.41127323, 0.63903209, 0.85307966],\n",
       "       [0.02123051, 0.93946979, 0.12548611, 0.2573742 , 0.95245426],\n",
       "       [0.25553201, 0.20720888, 0.94071331, 0.6539983 , 0.4515753 ],\n",
       "       [0.48524232, 0.95098507, 0.43728047, 0.578992  , 0.88042566],\n",
       "       [0.56487336, 0.65831467, 0.67418984, 0.98149799, 0.51181488]])"
      ]
     },
     "execution_count": 110,
     "metadata": {},
     "output_type": "execute_result"
    }
   ],
   "source": [
    "np.random.rand(5,5)"
   ]
  },
  {
   "cell_type": "code",
   "execution_count": 111,
   "id": "59c7e59b",
   "metadata": {},
   "outputs": [
    {
     "data": {
      "text/plain": [
       "array([-1.17171588,  1.1070246 , -0.09079429,  0.9557188 ])"
      ]
     },
     "execution_count": 111,
     "metadata": {},
     "output_type": "execute_result"
    }
   ],
   "source": [
    "np.random.randn(4)"
   ]
  },
  {
   "cell_type": "code",
   "execution_count": 108,
   "id": "84106ab1",
   "metadata": {},
   "outputs": [
    {
     "data": {
      "text/plain": [
       "array([[-0.06379175, -0.08593999, -0.40282419,  0.72062405],\n",
       "       [ 0.44473406, -0.79061218, -0.4728046 ,  1.28560531],\n",
       "       [-1.11969485, -1.27465494, -0.55303329,  0.55628153],\n",
       "       [ 0.80802469,  0.01445972,  0.69260775,  0.54832824]])"
      ]
     },
     "execution_count": 108,
     "metadata": {},
     "output_type": "execute_result"
    }
   ],
   "source": [
    "np.random.randn(4,4)"
   ]
  },
  {
   "cell_type": "code",
   "execution_count": 4,
   "id": "fef273ac",
   "metadata": {},
   "outputs": [
    {
     "data": {
      "text/plain": [
       "array([96, 25, 61, 84, 42])"
      ]
     },
     "execution_count": 4,
     "metadata": {},
     "output_type": "execute_result"
    }
   ],
   "source": [
    "np.random.randint(0,100,5)   #selects 5 values in the range of 0-100 as per condition"
   ]
  },
  {
   "cell_type": "code",
   "execution_count": 123,
   "id": "341fdca8",
   "metadata": {},
   "outputs": [
    {
     "data": {
      "text/plain": [
       "array([[87, 63],\n",
       "       [28, 84],\n",
       "       [ 9, 86]])"
      ]
     },
     "execution_count": 123,
     "metadata": {},
     "output_type": "execute_result"
    }
   ],
   "source": [
    "np.random.randint(0,100,6).reshape(3,2)"
   ]
  },
  {
   "cell_type": "code",
   "execution_count": 116,
   "id": "b901a973",
   "metadata": {},
   "outputs": [
    {
     "data": {
      "text/plain": [
       "array([[0.44149942, 0.76031601, 0.75053427, 0.09679261, 0.15958765,\n",
       "        0.60093624, 0.7452381 , 0.28552053]])"
      ]
     },
     "execution_count": 116,
     "metadata": {},
     "output_type": "execute_result"
    }
   ],
   "source": [
    "np.random.random_sample((1,8))  #returns values from 0.0 to 1.0"
   ]
  },
  {
   "cell_type": "code",
   "execution_count": 3,
   "id": "4ca3f2e1",
   "metadata": {},
   "outputs": [
    {
     "data": {
      "text/plain": [
       "array([[0.62236827, 0.18068793, 0.44536778, 0.79995702, 0.98598007]])"
      ]
     },
     "execution_count": 3,
     "metadata": {},
     "output_type": "execute_result"
    }
   ],
   "source": [
    "np.random.random_sample((1,5))"
   ]
  },
  {
   "cell_type": "code",
   "execution_count": 5,
   "id": "42999d34",
   "metadata": {},
   "outputs": [
    {
     "data": {
      "text/plain": [
       "array([[0.51199511, 0.42646127, 0.20684957, 0.07385422, 0.22826787],\n",
       "       [0.25554249, 0.43071615, 0.98489437, 0.56273262, 0.35456684]])"
      ]
     },
     "execution_count": 5,
     "metadata": {},
     "output_type": "execute_result"
    }
   ],
   "source": [
    "np.random.random_sample((2,5))"
   ]
  },
  {
   "cell_type": "code",
   "execution_count": 6,
   "id": "41dca24e",
   "metadata": {},
   "outputs": [
    {
     "data": {
      "text/plain": [
       "array([[0.81825996, 0.24247822, 0.00451427]])"
      ]
     },
     "execution_count": 6,
     "metadata": {},
     "output_type": "execute_result"
    }
   ],
   "source": [
    "np.random.random_sample((1,3))"
   ]
  },
  {
   "cell_type": "code",
   "execution_count": null,
   "id": "9abfd95d",
   "metadata": {},
   "outputs": [],
   "source": []
  }
 ],
 "metadata": {
  "kernelspec": {
   "display_name": "Python 3 (ipykernel)",
   "language": "python",
   "name": "python3"
  },
  "language_info": {
   "codemirror_mode": {
    "name": "ipython",
    "version": 3
   },
   "file_extension": ".py",
   "mimetype": "text/x-python",
   "name": "python",
   "nbconvert_exporter": "python",
   "pygments_lexer": "ipython3",
   "version": "3.9.13"
  }
 },
 "nbformat": 4,
 "nbformat_minor": 5
}
