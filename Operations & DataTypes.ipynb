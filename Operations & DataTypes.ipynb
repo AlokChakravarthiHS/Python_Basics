{
 "cells": [
  {
   "cell_type": "markdown",
   "id": "a60166f9",
   "metadata": {},
   "source": [
    "#love"
   ]
  },
  {
   "cell_type": "code",
   "execution_count": 5,
   "id": "456fb67e",
   "metadata": {},
   "outputs": [
    {
     "name": "stdout",
     "output_type": "stream",
     "text": [
      "15\n"
     ]
    }
   ],
   "source": [
    "a=5+5;\n",
    "b=5;\n",
    "c=a+b;\n",
    "print (c);"
   ]
  },
  {
   "cell_type": "code",
   "execution_count": 11,
   "id": "d5634021",
   "metadata": {},
   "outputs": [
    {
     "data": {
      "text/plain": [
       "'strstrstrstrstrstrstrstrstrstr'"
      ]
     },
     "execution_count": 11,
     "metadata": {},
     "output_type": "execute_result"
    }
   ],
   "source": [
    "10*2\n",
    "2**3 #this ** is power of the number \n",
    "10*'str'#prints number of times the string is multiplied"
   ]
  },
  {
   "cell_type": "code",
   "execution_count": 2,
   "id": "f68f6436",
   "metadata": {},
   "outputs": [
    {
     "name": "stdout",
     "output_type": "stream",
     "text": [
      "Alok is gonna rule data science industry\n"
     ]
    }
   ],
   "source": [
    "print(\"Alok is gonna rule data science industry\")"
   ]
  },
  {
   "cell_type": "code",
   "execution_count": 3,
   "id": "e4742378",
   "metadata": {},
   "outputs": [
    {
     "name": "stdout",
     "output_type": "stream",
     "text": [
      "love you\n"
     ]
    }
   ],
   "source": [
    "print(\"love you\")"
   ]
  },
  {
   "cell_type": "code",
   "execution_count": 4,
   "id": "7d743c60",
   "metadata": {},
   "outputs": [
    {
     "ename": "SyntaxError",
     "evalue": "invalid syntax (Temp/ipykernel_17300/2414937313.py, line 2)",
     "output_type": "error",
     "traceback": [
      "\u001b[1;36m  File \u001b[1;32m\"C:\\Users\\Akshaya\\AppData\\Local\\Temp/ipykernel_17300/2414937313.py\"\u001b[1;36m, line \u001b[1;32m2\u001b[0m\n\u001b[1;33m    multiline commenting\u001b[0m\n\u001b[1;37m              ^\u001b[0m\n\u001b[1;31mSyntaxError\u001b[0m\u001b[1;31m:\u001b[0m invalid syntax\n"
     ]
    }
   ],
   "source": [
    "...\n",
    "multiline commenting\n",
    "..."
   ]
  },
  {
   "cell_type": "code",
   "execution_count": 12,
   "id": "e3c18c1f",
   "metadata": {},
   "outputs": [
    {
     "data": {
      "text/plain": [
       "'This is multiline commenting\\n\\nIt is done by using 3 single qoutes'"
      ]
     },
     "execution_count": 12,
     "metadata": {},
     "output_type": "execute_result"
    }
   ],
   "source": [
    "'''This is multiline commenting\n",
    "\n",
    "It is done by using 3 single qoutes'''"
   ]
  },
  {
   "cell_type": "code",
   "execution_count": 25,
   "id": "d4d628d0",
   "metadata": {},
   "outputs": [
    {
     "ename": "SyntaxError",
     "evalue": "invalid syntax (Temp/ipykernel_17300/2870575122.py, line 2)",
     "output_type": "error",
     "traceback": [
      "\u001b[1;36m  File \u001b[1;32m\"C:\\Users\\Akshaya\\AppData\\Local\\Temp/ipykernel_17300/2870575122.py\"\u001b[1;36m, line \u001b[1;32m2\u001b[0m\n\u001b[1;33m    int h=100\u001b[0m\n\u001b[1;37m        ^\u001b[0m\n\u001b[1;31mSyntaxError\u001b[0m\u001b[1;31m:\u001b[0m invalid syntax\n"
     ]
    }
   ],
   "source": [
    "#to see the which datatype the content belongs to we use \n",
    "int h=100 #no need to define the type of variable we get error by doing this\n",
    "h=100\n",
    "type(h)"
   ]
  },
  {
   "cell_type": "code",
   "execution_count": null,
   "id": "41873293",
   "metadata": {},
   "outputs": [],
   "source": [
    "fname=\"Alok\"\n",
    "lname=\"Chakravarthi\"\n",
    "print(\"My name is and  {}\".format(fname,lname))"
   ]
  },
  {
   "cell_type": "code",
   "execution_count": 1,
   "id": "54732dff",
   "metadata": {},
   "outputs": [
    {
     "name": "stdout",
     "output_type": "stream",
     "text": [
      "My name is Chakravarthi and  Alok\n"
     ]
    }
   ],
   "source": [
    "fname=\"Alok\"\n",
    "lname=\"Chakravarthi\"\n",
    "print(\"My name is {last} and  {first}\".format(first=fname,last=lname))"
   ]
  },
  {
   "cell_type": "markdown",
   "id": "2dbef0b5",
   "metadata": {},
   "source": [
    "# List"
   ]
  },
  {
   "cell_type": "code",
   "execution_count": null,
   "id": "6a20fbd5",
   "metadata": {},
   "outputs": [],
   "source": [
    "#List can contain all the elements irrespective of the datatype\n",
    "#We define it by using [] braces \n",
    "#Index Numbering starts from 0\n",
    "\n",
    "lst=[]\n",
    "type(lst)"
   ]
  },
  {
   "cell_type": "code",
   "execution_count": 26,
   "id": "60dd01c2",
   "metadata": {},
   "outputs": [
    {
     "name": "stdout",
     "output_type": "stream",
     "text": [
      "['Cat', 'Dog', 'Lion', 222, 333, 44, 55]\n"
     ]
    }
   ],
   "source": [
    "lst=[\"Cat\",\"Dog\",\"Lion\", 222,333,44,55]\n",
    "print(lst)"
   ]
  },
  {
   "cell_type": "code",
   "execution_count": null,
   "id": "9dc6aa27",
   "metadata": {},
   "outputs": [],
   "source": [
    "lst.append(\"alok\")"
   ]
  },
  {
   "cell_type": "code",
   "execution_count": null,
   "id": "5acca392",
   "metadata": {},
   "outputs": [],
   "source": [
    "lst"
   ]
  },
  {
   "cell_type": "code",
   "execution_count": null,
   "id": "3dbab5fa",
   "metadata": {},
   "outputs": [],
   "source": [
    "#gives the particular value of item in list\n",
    "lst[6]"
   ]
  },
  {
   "cell_type": "code",
   "execution_count": null,
   "id": "dfdfb600",
   "metadata": {},
   "outputs": [],
   "source": [
    "#gives all the values in the list it is called \"SLICE OPERATOR\"\n",
    "lst[:]"
   ]
  },
  {
   "cell_type": "code",
   "execution_count": null,
   "id": "0ac4a9d2",
   "metadata": {},
   "outputs": [],
   "source": [
    "#to mention from which index\n",
    "lst[4:8]"
   ]
  },
  {
   "cell_type": "code",
   "execution_count": null,
   "id": "770d2ef8",
   "metadata": {},
   "outputs": [],
   "source": [
    "#creates nested list \n",
    "#lst.append([\"loki\",\"thor\"])\n",
    "lst.append(\"chakravarthi\")"
   ]
  },
  {
   "cell_type": "code",
   "execution_count": null,
   "id": "37f984a0",
   "metadata": {},
   "outputs": [],
   "source": [
    "print(lst)"
   ]
  },
  {
   "cell_type": "code",
   "execution_count": null,
   "id": "516ea4bf",
   "metadata": {},
   "outputs": [],
   "source": [
    "#Insert a value for a particular specified index\n",
    "lst.insert(4,\"lobe\")"
   ]
  },
  {
   "cell_type": "code",
   "execution_count": null,
   "id": "83b17804",
   "metadata": {},
   "outputs": [],
   "source": [
    "lst"
   ]
  },
  {
   "cell_type": "code",
   "execution_count": null,
   "id": "f2c7d8d8",
   "metadata": {},
   "outputs": [],
   "source": [
    "#adds the value to the list without nested list values unlike done by append function\n",
    "lst.extend([9,8])"
   ]
  },
  {
   "cell_type": "code",
   "execution_count": null,
   "id": "59a7d64f",
   "metadata": {},
   "outputs": [],
   "source": [
    "# .index() gives the index of element (tobe searched,search start from index,search end index)\n",
    "lst.index('alok',1,9)"
   ]
  },
  {
   "cell_type": "code",
   "execution_count": null,
   "id": "67242bc6",
   "metadata": {},
   "outputs": [],
   "source": [
    "lst"
   ]
  },
  {
   "cell_type": "markdown",
   "id": "c6e6a889",
   "metadata": {},
   "source": [
    "# Set"
   ]
  },
  {
   "cell_type": "code",
   "execution_count": null,
   "id": "3d82a30e",
   "metadata": {},
   "outputs": [],
   "source": [
    "# set defintion we define by using {} bracket, we only give values inside brackets\n",
    "set_val=set()\n",
    "print(set_val)\n",
    "print(type(set_val))"
   ]
  },
  {
   "cell_type": "code",
   "execution_count": 61,
   "id": "b08ee597",
   "metadata": {},
   "outputs": [
    {
     "name": "stdout",
     "output_type": "stream",
     "text": [
      "{'loki', 'thor', 'ironman'}\n"
     ]
    }
   ],
   "source": [
    "'''\n",
    "Here there is no concept of indexing,\n",
    "no duplicate values can be stored in sets,\n",
    "even if we enter the duplicate values it reads only for a single time\n",
    "'''\n",
    "set_val={\"loki\",\"thor\",\"ironman\"}\n",
    "print(set_val)"
   ]
  },
  {
   "cell_type": "code",
   "execution_count": 3,
   "id": "319bb13c",
   "metadata": {},
   "outputs": [
    {
     "name": "stdout",
     "output_type": "stream",
     "text": [
      "<class 'set'>\n",
      "<class 'int'>\n",
      "<class 'str'>\n",
      "<class 'str'>\n",
      "<class 'int'>\n",
      "{1, 'dd', 'ch', 66}\n"
     ]
    }
   ],
   "source": [
    "set_value={1,'dd',66,'ch'}\n",
    "print(type(set_value))\n",
    "for x in set_value:print(type(x))\n",
    "print(set_value)"
   ]
  },
  {
   "cell_type": "code",
   "execution_count": null,
   "id": "c2db51cc",
   "metadata": {},
   "outputs": [],
   "source": [
    "set_val.add('hulk')\n",
    "#set_val.intersection(set_value) gives the common elements\n",
    "#set_val.intersection_(set_value) gives the updated list of elements in thenext run\n",
    "print(set_val)"
   ]
  },
  {
   "cell_type": "markdown",
   "id": "c84c78be",
   "metadata": {},
   "source": [
    "# Dictionaries"
   ]
  },
  {
   "cell_type": "code",
   "execution_count": 27,
   "id": "6acbdf23",
   "metadata": {},
   "outputs": [
    {
     "name": "stdout",
     "output_type": "stream",
     "text": [
      "{'key': 'value'}\n",
      "{'car1': 'Mrec Benz', 'car2': 'Lambo', 'car3': 'BMW'}\n"
     ]
    }
   ],
   "source": [
    "#Dictionaries here we define as sets but we have both key and value pairs together\n",
    "dic={\"key\":\"value\"}\n",
    "print(dic)\n",
    "dic1={\"car1\":'Mrec Benz',\"car2\":\"Lambo\",\"car3\":\"BMW\"}\n",
    "print(dic1)"
   ]
  },
  {
   "cell_type": "code",
   "execution_count": null,
   "id": "7b5cf416",
   "metadata": {},
   "outputs": [],
   "source": [
    "# here we access the values by calling the keyvalues, and not by indexvalues\n",
    "dic1[\"car2\"],dic1[\"car3\"]"
   ]
  },
  {
   "cell_type": "code",
   "execution_count": null,
   "id": "426cda77",
   "metadata": {},
   "outputs": [],
   "source": [
    "#calling the values and data with for\n",
    "for x in dic1:print (x)"
   ]
  },
  {
   "cell_type": "code",
   "execution_count": null,
   "id": "6c97bf67",
   "metadata": {},
   "outputs": [],
   "source": [
    "#prints only values\n",
    "for x in dic1.values(): print (x)\n",
    "#prints all the data/items in dictionary\n",
    "for x in dic1.items(): print(x)"
   ]
  },
  {
   "cell_type": "code",
   "execution_count": 29,
   "id": "cbbca336",
   "metadata": {},
   "outputs": [
    {
     "name": "stdout",
     "output_type": "stream",
     "text": [
      "{'car1': 'Mrec Benz', 'car2': 'Lambo', 'car3': 'VW', 'car4': 'VW'}\n"
     ]
    }
   ],
   "source": [
    "#adding element to dictionary\n",
    "dic1[\"car4\"]=\"VW\" # if we give any repetiative key values the value of the repeated key is changed or replaced by new vwlue\n",
    "print(dic1)"
   ]
  },
  {
   "cell_type": "code",
   "execution_count": null,
   "id": "cfd55acb",
   "metadata": {},
   "outputs": [],
   "source": [
    "#adding/updating the value to the same key value overides the previous data and replaces new data\n",
    "dic1['car4']='masarati'\n",
    "dic1\n",
    "#we can observe the value of the car4 is changed to new value"
   ]
  },
  {
   "cell_type": "markdown",
   "id": "3bd666eb",
   "metadata": {},
   "source": [
    "## nested dictionary"
   ]
  },
  {
   "cell_type": "code",
   "execution_count": 30,
   "id": "61400651",
   "metadata": {},
   "outputs": [
    {
     "name": "stdout",
     "output_type": "stream",
     "text": [
      "{'car1': {'merc': 2022}, 'car2': {'lamno': 2025}, 'car3': {'bmw': 2028}}\n"
     ]
    }
   ],
   "source": [
    "#car11, car22, car33 are variable containing defined keyvalue pair (i.e-dictionary)\n",
    "car11={\"merc\":2022}\n",
    "car22={\"lamno\":2025}\n",
    "car33={\"bmw\":2028}\n",
    "\n",
    "#here the variables/dictionary we do not use \"\" or '' for value , and is converted into value in car_type\n",
    "\n",
    "car_type={'car1':car11,'car2':car22,'car3':car33}\n",
    "print(car_type)"
   ]
  },
  {
   "cell_type": "code",
   "execution_count": 31,
   "id": "db4bb847",
   "metadata": {},
   "outputs": [
    {
     "name": "stdout",
     "output_type": "stream",
     "text": [
      "{'bmw': 2028}\n",
      "2025\n"
     ]
    }
   ],
   "source": [
    "#car_type is having all the values of car11,car22,car33 in car1,car2,car3 as key values in car_type\n",
    "print(car_type['car3'])\n",
    "#here we accessed the key of cartype\n",
    "#print(car_type['car1']['car11'])\n",
    "#we get error coz car11 is the variable\n",
    "\n",
    "#car_type variable is nested directory 'car2, is key of car_type 'lamno' is key of car11\n",
    "print(car_type['car2']['lamno'])"
   ]
  },
  {
   "cell_type": "markdown",
   "id": "70b4a24a",
   "metadata": {},
   "source": [
    "# tuple"
   ]
  },
  {
   "cell_type": "code",
   "execution_count": null,
   "id": "36fe411a",
   "metadata": {},
   "outputs": [],
   "source": [
    "# Is a list, where we define the tuple which cannot be altered it has to be destroyed to create new one\n",
    "# It is used only when the data is unaltered\n",
    "my_tuple=tuple()"
   ]
  },
  {
   "cell_type": "code",
   "execution_count": null,
   "id": "b5ef2cfd",
   "metadata": {},
   "outputs": [],
   "source": [
    "print(my_tuple)\n",
    "print(type(my_tuple))"
   ]
  },
  {
   "cell_type": "code",
   "execution_count": null,
   "id": "6f99a070",
   "metadata": {},
   "outputs": [],
   "source": [
    "my_tuple=('loki','ajay',8,'easy',3,3,\"loki\",\"love\")\n",
    "my_tuple"
   ]
  },
  {
   "cell_type": "code",
   "execution_count": null,
   "id": "410a60fe",
   "metadata": {},
   "outputs": [],
   "source": [
    "#cannot assign by using index also as it is immutable\n",
    "my_tuple[3]=\"alok\""
   ]
  },
  {
   "cell_type": "code",
   "execution_count": null,
   "id": "a7426669",
   "metadata": {},
   "outputs": [],
   "source": [
    "type(my_tuple)"
   ]
  },
  {
   "cell_type": "code",
   "execution_count": null,
   "id": "6e083370",
   "metadata": {},
   "outputs": [],
   "source": [
    "#to count no of times repeated\n",
    "my_tuple.count(3)"
   ]
  },
  {
   "cell_type": "code",
   "execution_count": null,
   "id": "a5bee286",
   "metadata": {},
   "outputs": [],
   "source": [
    "#to see the index of element\n",
    "my_tuple.index('easy')"
   ]
  },
  {
   "cell_type": "code",
   "execution_count": null,
   "id": "dea1b4a5",
   "metadata": {},
   "outputs": [],
   "source": [
    "# the user cannot assign any value to the index or insert can be done to tuple, IT IS FIXED ONCE CREATED"
   ]
  },
  {
   "cell_type": "markdown",
   "id": "48f66ff6",
   "metadata": {},
   "source": [
    "# Constant Variable"
   ]
  },
  {
   "cell_type": "code",
   "execution_count": null,
   "id": "50c65342",
   "metadata": {},
   "outputs": [],
   "source": [
    "#here we use capitals to create the variables and assign the value will not change over operating on it, it will stay the same  "
   ]
  },
  {
   "cell_type": "code",
   "execution_count": 43,
   "id": "19dfe1ac",
   "metadata": {},
   "outputs": [
    {
     "data": {
      "text/plain": [
       "20"
      ]
     },
     "execution_count": 43,
     "metadata": {},
     "output_type": "execute_result"
    }
   ],
   "source": [
    "variable=10;\n",
    "variable+10\n"
   ]
  },
  {
   "cell_type": "code",
   "execution_count": 47,
   "id": "fde272b7",
   "metadata": {},
   "outputs": [
    {
     "data": {
      "text/plain": [
       "30"
      ]
     },
     "execution_count": 47,
     "metadata": {},
     "output_type": "execute_result"
    }
   ],
   "source": [
    "constVariable=10;\n",
    "constVariable+20"
   ]
  },
  {
   "cell_type": "code",
   "execution_count": 51,
   "id": "aa2231b3",
   "metadata": {
    "scrolled": true
   },
   "outputs": [
    {
     "data": {
      "text/plain": [
       "20"
      ]
     },
     "execution_count": 51,
     "metadata": {},
     "output_type": "execute_result"
    }
   ],
   "source": [
    "CONSTANT =10;\n",
    "CONSTANT+10"
   ]
  },
  {
   "cell_type": "code",
   "execution_count": 60,
   "id": "35f1058f",
   "metadata": {},
   "outputs": [
    {
     "name": "stdout",
     "output_type": "stream",
     "text": [
      "10\n",
      "20\n",
      "33\n"
     ]
    }
   ],
   "source": [
    "MYCONSTANT=10;\n",
    "MYCONSTANT+20\n",
    "print(MYCONSTANT)\n",
    "MYCONSTANT1=20;\n",
    "MYCONSTANT1+10\n",
    "print(MYCONSTANT1)\n",
    "MYY=33\n",
    "MYY+5\n",
    "print(MYY)"
   ]
  },
  {
   "cell_type": "code",
   "execution_count": 1,
   "id": "e235d867",
   "metadata": {},
   "outputs": [],
   "source": [
    "lst=[1,2,3,4,5,6,7,8,9]"
   ]
  },
  {
   "cell_type": "code",
   "execution_count": 2,
   "id": "0076ab24",
   "metadata": {},
   "outputs": [],
   "source": [
    "def evenodd_sum(lst):\n",
    "    even_sum=0\n",
    "    odd_sum=0\n",
    "    for i in lst:\n",
    "        if i%2==0:\n",
    "            even_sum=even_sum+i\n",
    "        else\n",
    "            odd_sum=odd_sum+i\n",
    "        return even_sum,odd_sum"
   ]
  },
  {
   "cell_type": "code",
   "execution_count": 3,
   "id": "3f3b4c6c",
   "metadata": {},
   "outputs": [
    {
     "data": {
      "text/plain": [
       "(0, 1)"
      ]
     },
     "execution_count": 3,
     "metadata": {},
     "output_type": "execute_result"
    }
   ],
   "source": [
    "evenodd_sum(lst )"
   ]
  }
 ],
 "metadata": {
  "kernelspec": {
   "display_name": "Python 3 (ipykernel)",
   "language": "python",
   "name": "python3"
  },
  "language_info": {
   "codemirror_mode": {
    "name": "ipython",
    "version": 3
   },
   "file_extension": ".py",
   "mimetype": "text/x-python",
   "name": "python",
   "nbconvert_exporter": "python",
   "pygments_lexer": "ipython3",
   "version": "3.9.13"
  }
 },
 "nbformat": 4,
 "nbformat_minor": 5
}
