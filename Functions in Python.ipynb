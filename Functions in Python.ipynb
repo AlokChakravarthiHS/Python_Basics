{
 "cells": [
  {
   "cell_type": "markdown",
   "id": "68fe4675",
   "metadata": {},
   "source": [
    "# Functions in Python"
   ]
  },
  {
   "cell_type": "code",
   "execution_count": 1,
   "id": "2998a286",
   "metadata": {},
   "outputs": [],
   "source": [
    "# creating definition\n",
    "\n",
    "def even_odd(num):\n",
    "    if num%2==0:\n",
    "        print('even')\n",
    "    else:\n",
    "        print('odd')"
   ]
  },
  {
   "cell_type": "code",
   "execution_count": 4,
   "id": "97d8a369",
   "metadata": {},
   "outputs": [
    {
     "ename": "TypeError",
     "evalue": "even_odd() missing 1 required positional argument: 'num'",
     "output_type": "error",
     "traceback": [
      "\u001b[1;31m---------------------------------------------------------------------------\u001b[0m",
      "\u001b[1;31mTypeError\u001b[0m                                 Traceback (most recent call last)",
      "\u001b[1;32m~\\AppData\\Local\\Temp\\ipykernel_20416\\4049374552.py\u001b[0m in \u001b[0;36m<module>\u001b[1;34m\u001b[0m\n\u001b[1;32m----> 1\u001b[1;33m \u001b[0meven_odd\u001b[0m\u001b[1;33m(\u001b[0m\u001b[1;33m)\u001b[0m \u001b[1;31m#if we not specify argument inside the calling function we get positional error\u001b[0m\u001b[1;33m\u001b[0m\u001b[1;33m\u001b[0m\u001b[0m\n\u001b[0m",
      "\u001b[1;31mTypeError\u001b[0m: even_odd() missing 1 required positional argument: 'num'"
     ]
    }
   ],
   "source": [
    "even_odd() #if we not specify argument inside the calling function we get positional error"
   ]
  },
  {
   "cell_type": "code",
   "execution_count": 7,
   "id": "a685a7ce",
   "metadata": {},
   "outputs": [],
   "source": [
    "def hello_world():\n",
    "    print('Welcome')"
   ]
  },
  {
   "cell_type": "code",
   "execution_count": 11,
   "id": "9c051d41",
   "metadata": {},
   "outputs": [
    {
     "name": "stdout",
     "output_type": "stream",
     "text": [
      "Welcome\n",
      "None\n"
     ]
    }
   ],
   "source": [
    "var=hello_world()\n",
    "print(var)  #if in the function definition we have condition of print when assigned to variable and called it gives O/P:None"
   ]
  },
  {
   "cell_type": "code",
   "execution_count": null,
   "id": "8c018b14",
   "metadata": {},
   "outputs": [],
   "source": [
    "# To overcome the above cenario we use return statement"
   ]
  },
  {
   "cell_type": "code",
   "execution_count": 12,
   "id": "cabbad2b",
   "metadata": {},
   "outputs": [],
   "source": [
    "def hello_world():\n",
    "    return('Welcome')"
   ]
  },
  {
   "cell_type": "code",
   "execution_count": 16,
   "id": "2dbfea9c",
   "metadata": {
    "scrolled": true
   },
   "outputs": [
    {
     "name": "stdout",
     "output_type": "stream",
     "text": [
      "Welcome\n"
     ]
    }
   ],
   "source": [
    "var=hello_world()\n",
    "print(var) #here the value is returned"
   ]
  },
  {
   "cell_type": "code",
   "execution_count": 17,
   "id": "1353ae41",
   "metadata": {},
   "outputs": [],
   "source": [
    "def summation(x1,x2,x3): # we can create the definition with many arguments\n",
    "    return x1+x2+x3"
   ]
  },
  {
   "cell_type": "code",
   "execution_count": 18,
   "id": "e36df29b",
   "metadata": {},
   "outputs": [
    {
     "ename": "TypeError",
     "evalue": "summation() missing 3 required positional arguments: 'x1', 'x2', and 'x3'",
     "output_type": "error",
     "traceback": [
      "\u001b[1;31m---------------------------------------------------------------------------\u001b[0m",
      "\u001b[1;31mTypeError\u001b[0m                                 Traceback (most recent call last)",
      "\u001b[1;32m~\\AppData\\Local\\Temp\\ipykernel_20416\\1976927599.py\u001b[0m in \u001b[0;36m<module>\u001b[1;34m\u001b[0m\n\u001b[1;32m----> 1\u001b[1;33m \u001b[0msummation\u001b[0m\u001b[1;33m(\u001b[0m\u001b[1;33m)\u001b[0m\u001b[1;33m\u001b[0m\u001b[1;33m\u001b[0m\u001b[0m\n\u001b[0m",
      "\u001b[1;31mTypeError\u001b[0m: summation() missing 3 required positional arguments: 'x1', 'x2', and 'x3'"
     ]
    }
   ],
   "source": [
    "summation()"
   ]
  },
  {
   "cell_type": "code",
   "execution_count": 19,
   "id": "4e939a25",
   "metadata": {},
   "outputs": [
    {
     "data": {
      "text/plain": [
       "99"
      ]
     },
     "execution_count": 19,
     "metadata": {},
     "output_type": "execute_result"
    }
   ],
   "source": [
    "summation(22,33,44)"
   ]
  },
  {
   "cell_type": "code",
   "execution_count": 22,
   "id": "ef430e73",
   "metadata": {},
   "outputs": [],
   "source": [
    "#Positional and keyword arguments\n",
    "\n",
    "def hello(name,age=26):\n",
    "    print(\"my name is {} and age{}\".format(name,age))"
   ]
  },
  {
   "cell_type": "code",
   "execution_count": 23,
   "id": "e18a6d33",
   "metadata": {},
   "outputs": [
    {
     "name": "stdout",
     "output_type": "stream",
     "text": [
      "my name is alok and age26\n"
     ]
    }
   ],
   "source": [
    "hello('alok')\n",
    "\n",
    "'''\n",
    "Here the name parameter is positional argument as it does not have any values assigned\n",
    "if parameteres are specified in terms of key value pairs it is keyword argument \n",
    "'''"
   ]
  },
  {
   "cell_type": "code",
   "execution_count": 27,
   "id": "fb6e9ba3",
   "metadata": {},
   "outputs": [],
   "source": [
    "def hello(*args,**kwargs): #*args is positional argument\n",
    "    print(args)            #**kwargs is keyword argument\n",
    "    print(kwargs)"
   ]
  },
  {
   "cell_type": "code",
   "execution_count": 29,
   "id": "35d9bd3b",
   "metadata": {},
   "outputs": [
    {
     "name": "stdout",
     "output_type": "stream",
     "text": [
      "('krish', 'daali', 'hublot')\n",
      "{'age': 34, 'dob': 97}\n"
     ]
    }
   ],
   "source": [
    "hello('krish','daali','hublot',age=34,dob=97)"
   ]
  },
  {
   "cell_type": "code",
   "execution_count": 31,
   "id": "83aa7064",
   "metadata": {},
   "outputs": [],
   "source": [
    "lst1=['krish', 'daali', 'hublot'] # positional argument value o/p\n",
    "lst2={'age': 34, 'dob': 97} # keyword argument value o/p"
   ]
  },
  {
   "cell_type": "code",
   "execution_count": 32,
   "id": "74dd2ec1",
   "metadata": {},
   "outputs": [
    {
     "name": "stdout",
     "output_type": "stream",
     "text": [
      "(['krish', 'daali', 'hublot'], {'age': 34, 'dob': 97})\n",
      "{}\n"
     ]
    }
   ],
   "source": [
    "hello(lst1,lst2) # this output is not proper as its taking both list as args hence one output"
   ]
  },
  {
   "cell_type": "code",
   "execution_count": 33,
   "id": "39ff00c5",
   "metadata": {},
   "outputs": [
    {
     "name": "stdout",
     "output_type": "stream",
     "text": [
      "('krish', 'daali', 'hublot')\n",
      "{'age': 34, 'dob': 97}\n"
     ]
    }
   ],
   "source": [
    "hello(*lst1,**lst2) # now we mention by *,** and give clarity to function"
   ]
  },
  {
   "cell_type": "code",
   "execution_count": 70,
   "id": "bf5545ad",
   "metadata": {},
   "outputs": [],
   "source": [
    "lst=[1,2,3,4,5,6,7]"
   ]
  },
  {
   "cell_type": "code",
   "execution_count": 73,
   "id": "f1c78e2e",
   "metadata": {},
   "outputs": [],
   "source": [
    "def evenodd_sum(lst):\n",
    "    even_sum=0\n",
    "    odd_sum=0\n",
    "    for i in lst:\n",
    "        if i%2==0:\n",
    "            even_sum=even_sum+i\n",
    "        else:\n",
    "            odd_sum=odd_sum+i\n",
    "     return even_sum,odd_sum"
   ]
  },
  {
   "cell_type": "code",
   "execution_count": 74,
   "id": "729cc3ab",
   "metadata": {},
   "outputs": [
    {
     "data": {
      "text/plain": [
       "(12, 16)"
      ]
     },
     "execution_count": 74,
     "metadata": {},
     "output_type": "execute_result"
    }
   ],
   "source": [
    "evenodd_sum(lst)"
   ]
  },
  {
   "cell_type": "markdown",
   "id": "d9cf2e83",
   "metadata": {},
   "source": []
  },
  {
   "cell_type": "markdown",
   "id": "61b812ea",
   "metadata": {},
   "source": [
    "# Lamda Functions\n",
    "\n",
    "anonymous function / function with no name\n",
    "It works more faster than that of normal function\n",
    "\n",
    "We can use only if we havde single expression/operation inside the definition function"
   ]
  },
  {
   "cell_type": "code",
   "execution_count": 76,
   "id": "13f3f8d8",
   "metadata": {},
   "outputs": [],
   "source": [
    "addition=lambda a,b:a*b "
   ]
  },
  {
   "cell_type": "code",
   "execution_count": 77,
   "id": "2945d5e7",
   "metadata": {},
   "outputs": [
    {
     "data": {
      "text/plain": [
       "15"
      ]
     },
     "execution_count": 77,
     "metadata": {},
     "output_type": "execute_result"
    }
   ],
   "source": [
    "addition(3,5)"
   ]
  },
  {
   "cell_type": "code",
   "execution_count": 78,
   "id": "27a5c86b",
   "metadata": {},
   "outputs": [],
   "source": [
    "even = lambda num:num%2==0"
   ]
  },
  {
   "cell_type": "code",
   "execution_count": 80,
   "id": "31e4ce9d",
   "metadata": {},
   "outputs": [
    {
     "data": {
      "text/plain": [
       "False"
      ]
     },
     "execution_count": 80,
     "metadata": {},
     "output_type": "execute_result"
    }
   ],
   "source": [
    "even(35)"
   ]
  },
  {
   "cell_type": "code",
   "execution_count": 81,
   "id": "cd76c309",
   "metadata": {},
   "outputs": [
    {
     "ename": "SyntaxError",
     "evalue": "invalid syntax (4010409931.py, line 1)",
     "output_type": "error",
     "traceback": [
      "\u001b[1;36m  File \u001b[1;32m\"C:\\Users\\alokh\\AppData\\Local\\Temp\\ipykernel_20416\\4010409931.py\"\u001b[1;36m, line \u001b[1;32m1\u001b[0m\n\u001b[1;33m    We can create it with any number of parameters but the return function should be a single value\u001b[0m\n\u001b[1;37m       ^\u001b[0m\n\u001b[1;31mSyntaxError\u001b[0m\u001b[1;31m:\u001b[0m invalid syntax\n"
     ]
    }
   ],
   "source": [
    "#We can create it with any number of parameters but the return function should be a single value\n",
    "#we cannot write multiple expression/operation />1 lines of code in function\n",
    "# we use keywor as lambda"
   ]
  },
  {
   "cell_type": "markdown",
   "id": "d4312ce9",
   "metadata": {},
   "source": [
    "# Map functions\n",
    "\n",
    "The format is function and iterable\n",
    "\n",
    "Iterable is the list of data in which each and every element in list need to be checked by the same function\n",
    " \n",
    "It helps us to skip for loop\n",
    " \n",
    "it uses lazy loading technique"
   ]
  },
  {
   "cell_type": "code",
   "execution_count": 85,
   "id": "3b9d7c8b",
   "metadata": {},
   "outputs": [],
   "source": [
    "def even_or_odd(num):\n",
    "    if num%2==0:\n",
    "        return 'the {} iseven'.format(num)\n",
    "    else:\n",
    "        return 'the {} isodd'.format(num)"
   ]
  },
  {
   "cell_type": "code",
   "execution_count": 86,
   "id": "473fd1ee",
   "metadata": {},
   "outputs": [
    {
     "data": {
      "text/plain": [
       "'the 56 iseven'"
      ]
     },
     "execution_count": 86,
     "metadata": {},
     "output_type": "execute_result"
    }
   ],
   "source": [
    "even_or_odd(56)"
   ]
  },
  {
   "cell_type": "code",
   "execution_count": 88,
   "id": "a0671824",
   "metadata": {},
   "outputs": [],
   "source": [
    "lst3=[34,546,76,35,3456,7,7654,86]"
   ]
  },
  {
   "cell_type": "code",
   "execution_count": 89,
   "id": "f03bf64b",
   "metadata": {},
   "outputs": [
    {
     "data": {
      "text/plain": [
       "<map at 0x1cecebd3d00>"
      ]
     },
     "execution_count": 89,
     "metadata": {},
     "output_type": "execute_result"
    }
   ],
   "source": [
    "map(even_or_odd,lst3) # we do not get the output as memory is not instanciated by map function()\n",
    "# hence we assign it to list"
   ]
  },
  {
   "cell_type": "code",
   "execution_count": 92,
   "id": "314714e0",
   "metadata": {},
   "outputs": [
    {
     "data": {
      "text/plain": [
       "['the 34 iseven',\n",
       " 'the 546 iseven',\n",
       " 'the 76 iseven',\n",
       " 'the 35 isodd',\n",
       " 'the 3456 iseven',\n",
       " 'the 7 isodd',\n",
       " 'the 7654 iseven',\n",
       " 'the 86 iseven']"
      ]
     },
     "execution_count": 92,
     "metadata": {},
     "output_type": "execute_result"
    }
   ],
   "source": [
    "list(map(even_or_odd,lst3) )"
   ]
  },
  {
   "cell_type": "markdown",
   "id": "dccb6015",
   "metadata": {},
   "source": [
    "# Filter function\n"
   ]
  },
  {
   "cell_type": "code",
   "execution_count": 93,
   "id": "70deaf4e",
   "metadata": {},
   "outputs": [],
   "source": [
    "def even(num):\n",
    "    if num%2==0:\n",
    "        return True"
   ]
  },
  {
   "cell_type": "code",
   "execution_count": 94,
   "id": "f8d9b78b",
   "metadata": {},
   "outputs": [],
   "source": [
    "lst4=[1,2,3,4,5,6,7,8,9]"
   ]
  },
  {
   "cell_type": "code",
   "execution_count": 95,
   "id": "0fe31b44",
   "metadata": {},
   "outputs": [
    {
     "data": {
      "text/plain": [
       "[2, 4, 6, 8]"
      ]
     },
     "execution_count": 95,
     "metadata": {},
     "output_type": "execute_result"
    }
   ],
   "source": [
    "list(filter(even,lst4))"
   ]
  },
  {
   "cell_type": "code",
   "execution_count": 96,
   "id": "d496c0d6",
   "metadata": {},
   "outputs": [
    {
     "data": {
      "text/plain": [
       "<filter at 0x1cecefb7ca0>"
      ]
     },
     "execution_count": 96,
     "metadata": {},
     "output_type": "execute_result"
    }
   ],
   "source": [
    "# using lambda function\n",
    "filter(lambda num: nun%2==0,lst4)"
   ]
  },
  {
   "cell_type": "code",
   "execution_count": 98,
   "id": "a54fd713",
   "metadata": {},
   "outputs": [
    {
     "data": {
      "text/plain": [
       "[2, 4, 6, 8]"
      ]
     },
     "execution_count": 98,
     "metadata": {},
     "output_type": "execute_result"
    }
   ],
   "source": [
    "list(filter(lambda num: num%2==0,lst4))"
   ]
  },
  {
   "cell_type": "code",
   "execution_count": 103,
   "id": "65024f8e",
   "metadata": {},
   "outputs": [
    {
     "data": {
      "text/plain": [
       "[False, True, False, True, False, True, False, True, False]"
      ]
     },
     "execution_count": 103,
     "metadata": {},
     "output_type": "execute_result"
    }
   ],
   "source": [
    "#using map\n",
    "list(map(lambda num: num%2==0,lst4))"
   ]
  },
  {
   "cell_type": "markdown",
   "id": "7cb78aae",
   "metadata": {},
   "source": [
    "# List Comprehension\n",
    "We use this to write one line code in the []\n",
    "It is in format of expression, for clause and no of if and for statements as per requirement"
   ]
  },
  {
   "cell_type": "code",
   "execution_count": 6,
   "id": "17944cb5",
   "metadata": {},
   "outputs": [],
   "source": [
    "lst5=[]\n",
    "def list_square(lst):\n",
    "    for i in lst:\n",
    "        lst5.append(i*i)\n",
    "    return lst5"
   ]
  },
  {
   "cell_type": "code",
   "execution_count": 7,
   "id": "e087edcf",
   "metadata": {},
   "outputs": [
    {
     "data": {
      "text/plain": [
       "[1, 4, 9, 16, 25, 36, 49, 64]"
      ]
     },
     "execution_count": 7,
     "metadata": {},
     "output_type": "execute_result"
    }
   ],
   "source": [
    "list_square([1,2,3,4,5,6,7,8])"
   ]
  },
  {
   "cell_type": "code",
   "execution_count": 27,
   "id": "0e6d6574",
   "metadata": {},
   "outputs": [],
   "source": [
    "# using list Comprehension for above case\n",
    "lst=[1,2,3,4,5,6]"
   ]
  },
  {
   "cell_type": "code",
   "execution_count": 29,
   "id": "b9134ec0",
   "metadata": {},
   "outputs": [],
   "source": [
    "lst6=[i*i for i in lst if i%2==0]"
   ]
  },
  {
   "cell_type": "code",
   "execution_count": 30,
   "id": "0e4cea94",
   "metadata": {},
   "outputs": [
    {
     "name": "stdout",
     "output_type": "stream",
     "text": [
      "[4, 16, 36]\n"
     ]
    }
   ],
   "source": [
    "print(lst6)"
   ]
  },
  {
   "cell_type": "markdown",
   "id": "3508ae73",
   "metadata": {},
   "source": [
    "# String formatting\n",
    " It basically depends on the place hohlders "
   ]
  },
  {
   "cell_type": "code",
   "execution_count": 31,
   "id": "3ecf95a7",
   "metadata": {},
   "outputs": [],
   "source": [
    "def greeting(name):\n",
    "    return 'hello {} welcome to company'.format(name)"
   ]
  },
  {
   "cell_type": "code",
   "execution_count": 33,
   "id": "b70c1da7",
   "metadata": {},
   "outputs": [
    {
     "data": {
      "text/plain": [
       "'hello gokul welcome to company'"
      ]
     },
     "execution_count": 33,
     "metadata": {},
     "output_type": "execute_result"
    }
   ],
   "source": [
    "greeting('gokul')"
   ]
  },
  {
   "cell_type": "code",
   "execution_count": 40,
   "id": "71a210a8",
   "metadata": {},
   "outputs": [],
   "source": [
    "def Welcome(name,age):\n",
    "    return 'hello {} and the age is{}'.format(name,age)"
   ]
  },
  {
   "cell_type": "code",
   "execution_count": 41,
   "id": "e48e0590",
   "metadata": {},
   "outputs": [
    {
     "data": {
      "text/plain": [
       "'hello gokul and the age is23'"
      ]
     },
     "execution_count": 41,
     "metadata": {},
     "output_type": "execute_result"
    }
   ],
   "source": [
    "Welcome('gokul',23)"
   ]
  },
  {
   "cell_type": "code",
   "execution_count": 42,
   "id": "e2457484",
   "metadata": {},
   "outputs": [],
   "source": [
    " def Welcome(name,age):\n",
    "    return 'hello {age} and the age is{name}'.format(age=name,name=age)"
   ]
  },
  {
   "cell_type": "code",
   "execution_count": 43,
   "id": "256861be",
   "metadata": {},
   "outputs": [
    {
     "data": {
      "text/plain": [
       "'hello gokul and the age is23'"
      ]
     },
     "execution_count": 43,
     "metadata": {},
     "output_type": "execute_result"
    }
   ],
   "source": [
    "Welcome('gokul',23)"
   ]
  },
  {
   "cell_type": "markdown",
   "id": "7788084a",
   "metadata": {},
   "source": [
    "# Iterables vs Iterators\n",
    "\n",
    "List are Iterable s"
   ]
  },
  {
   "cell_type": "code",
   "execution_count": 66,
   "id": "ec072da9",
   "metadata": {},
   "outputs": [
    {
     "name": "stdout",
     "output_type": "stream",
     "text": [
      "1\n",
      "8\n",
      "2\n",
      "3\n",
      "5\n",
      "9\n"
     ]
    }
   ],
   "source": [
    "lst7=[1,8,2,3,5,9]\n",
    "for i in lst7:\n",
    "    print(i)"
   ]
  },
  {
   "cell_type": "code",
   "execution_count": 67,
   "id": "b11dfb64",
   "metadata": {},
   "outputs": [],
   "source": [
    "# Converting the list to iterstor\n",
    "lst_iter=iter(lst7)"
   ]
  },
  {
   "cell_type": "code",
   "execution_count": 54,
   "id": "de0d9098",
   "metadata": {},
   "outputs": [
    {
     "data": {
      "text/plain": [
       "<list_iterator at 0x1c52c3dddc0>"
      ]
     },
     "execution_count": 54,
     "metadata": {},
     "output_type": "execute_result"
    }
   ],
   "source": [
    "lst_iter"
   ]
  },
  {
   "cell_type": "code",
   "execution_count": 69,
   "id": "c07dbd9b",
   "metadata": {},
   "outputs": [
    {
     "data": {
      "text/plain": [
       "8"
      ]
     },
     "execution_count": 69,
     "metadata": {},
     "output_type": "execute_result"
    }
   ],
   "source": [
    "next(lst_iter) # all the time we call this fn only one element is stored to the memory\n",
    "# if we try displaying rest elements it gives out the values after the next() fn has called "
   ]
  },
  {
   "cell_type": "code",
   "execution_count": 70,
   "id": "444402f1",
   "metadata": {},
   "outputs": [
    {
     "name": "stdout",
     "output_type": "stream",
     "text": [
      "2\n",
      "3\n",
      "5\n",
      "9\n"
     ]
    }
   ],
   "source": [
    "for i in lst_iter:\n",
    "    print(i)\n",
    "# it prints the data sfter the next()fn has called"
   ]
  },
  {
   "cell_type": "markdown",
   "id": "202cc8f2",
   "metadata": {},
   "source": [
    "# Pyforest -lazy import of all DataScience Libraries\n",
    "\n",
    "In this we don't import any library for the execution everything is done by its own\n",
    "Basically in this we dont need to specify the things for importing\n",
    "\n",
    "---if we install pyfrost package it is more than sufficient to use this type\n",
    "\n",
    "pip install Pyforest\n",
    "\n",
    "We can export the python with the imports statement\n",
    "---"
   ]
  },
  {
   "cell_type": "code",
   "execution_count": null,
   "id": "3bde84f4",
   "metadata": {},
   "outputs": [],
   "source": [
    "'''\n",
    "df=pd.read_csv('link')\n",
    "df.head()\n",
    "# we get the output\n",
    "\n",
    "#to see which library is imported\n",
    "active_imports()\n",
    "# we get the output as pandas\n",
    "lst1=[1,2,3,4]\n",
    "lst2=[2,3,4,5]\n",
    "plt.plot(lst1,lst2)\n",
    "plt.xlabel('xaxis')\n",
    "plt.ylabel('yaxis')\n",
    "plt.show()\n",
    "#gives output\n",
    "\n",
    "active_imports()\n",
    "#gives pandas and numpy and matplotlib.pyplot\n",
    "np.array([1,2,3,4,5])\n",
    "df1=pd.read_csv('mercedesbenz.csv')\n",
    "df1.head()\n",
    "sns.distplot(df[5])\n",
    "active_imports()\n",
    "#gives pandas and numpy and matplotlib.pyplot and seaborn\n",
    "\n",
    "\n",
    "\n",
    "\n",
    "'''"
   ]
  },
  {
   "cell_type": "code",
   "execution_count": null,
   "id": "68fe21e9",
   "metadata": {},
   "outputs": [],
   "source": []
  },
  {
   "cell_type": "code",
   "execution_count": null,
   "id": "a7fabf15",
   "metadata": {},
   "outputs": [],
   "source": []
  }
 ],
 "metadata": {
  "kernelspec": {
   "display_name": "Python 3 (ipykernel)",
   "language": "python",
   "name": "python3"
  },
  "language_info": {
   "codemirror_mode": {
    "name": "ipython",
    "version": 3
   },
   "file_extension": ".py",
   "mimetype": "text/x-python",
   "name": "python",
   "nbconvert_exporter": "python",
   "pygments_lexer": "ipython3",
   "version": "3.9.13"
  }
 },
 "nbformat": 4,
 "nbformat_minor": 5
}
